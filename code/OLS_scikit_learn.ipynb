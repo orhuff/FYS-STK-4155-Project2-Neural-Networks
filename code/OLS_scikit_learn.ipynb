{
 "cells": [
  {
   "cell_type": "code",
   "execution_count": 72,
   "id": "51bc51da",
   "metadata": {},
   "outputs": [],
   "source": [
    "import numpy as np\n",
    "import pandas as pd\n",
    "import matplotlib.pyplot as plt\n",
    "from sklearn.preprocessing import PolynomialFeatures\n",
    "from sklearn.model_selection import train_test_split\n",
    "from sklearn.linear_model import LinearRegression\n",
    "\n",
    "def MSE(y_data, y_model):\n",
    "    'mean squared error calculation'\n",
    "    'y_data = true y datapoints, y_model = predicted y datapoints'\n",
    "    \n",
    "    n = np.size(y_model)\n",
    "    \n",
    "    return np.sum((y_data-y_model)**2)/n"
   ]
  },
  {
   "cell_type": "markdown",
   "id": "7b414678",
   "metadata": {},
   "source": [
    "# OLS code used to show essentially zero error on our quadratic function"
   ]
  },
  {
   "cell_type": "code",
   "execution_count": 78,
   "id": "c1f41fb4",
   "metadata": {},
   "outputs": [],
   "source": [
    "npoints = 100\n",
    "np.random.seed(1)\n",
    "x = 3*np.random.rand(npoints,1)\n",
    "y = 4 + 3*x + 2*x**2\n",
    "\n",
    "X_train, X_test, y_train, y_test = train_test_split(x, y, test_size=0.2, random_state=1)"
   ]
  },
  {
   "cell_type": "code",
   "execution_count": 79,
   "id": "2c9c73a9",
   "metadata": {},
   "outputs": [],
   "source": [
    "poly = PolynomialFeatures(degree=2, include_bias=False)\n",
    "poly_features_train = poly.fit_transform(X_train.reshape(-1, 1))\n",
    "poly_features_test = poly.fit_transform(X_test.reshape(-1, 1))\n",
    "\n",
    "poly_reg_model = LinearRegression()\n",
    "poly_reg_model.fit(poly_features_train, y_train)\n",
    "\n",
    "y_predicted = poly_reg_model.predict(poly_features_test)"
   ]
  },
  {
   "cell_type": "code",
   "execution_count": 80,
   "id": "a6f59844",
   "metadata": {},
   "outputs": [
    {
     "data": {
      "text/plain": [
       "4.733165431326071e-30"
      ]
     },
     "execution_count": 80,
     "metadata": {},
     "output_type": "execute_result"
    }
   ],
   "source": [
    "MSE(y_predicted, y_test)"
   ]
  },
  {
   "cell_type": "code",
   "execution_count": 81,
   "id": "381e5b8c",
   "metadata": {},
   "outputs": [
    {
     "data": {
      "text/plain": [
       "[<matplotlib.lines.Line2D at 0x1fdde86cfa0>]"
      ]
     },
     "execution_count": 81,
     "metadata": {},
     "output_type": "execute_result"
    },
    {
     "data": {
      "image/png": "[encoded data removed]",
      "text/plain": [
       "<Figure size 432x288 with 1 Axes>"
      ]
     },
     "metadata": {
      "needs_background": "light"
     },
     "output_type": "display_data"
    }
   ],
   "source": [
    "plt.plot(X_test,y_predicted, 'o')\n",
    "plt.plot(X_test,y_test, 'o')"
   ]
  },
  {
   "cell_type": "code",
   "execution_count": null,
   "id": "1b0cc760",
   "metadata": {},
   "outputs": [],
   "source": []
  }
 ],
 "metadata": {
  "kernelspec": {
   "display_name": "Python 3 (ipykernel)",
   "language": "python",
   "name": "python3"
  },
  "language_info": {
   "codemirror_mode": {
    "name": "ipython",
    "version": 3
   },
   "file_extension": ".py",
   "mimetype": "text/x-python",
   "name": "python",
   "nbconvert_exporter": "python",
   "pygments_lexer": "ipython3",
   "version": "3.9.12"
  }
 },
 "nbformat": 4,
 "nbformat_minor": 5
}
